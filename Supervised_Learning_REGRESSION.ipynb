{
  "nbformat": 4,
  "nbformat_minor": 0,
  "metadata": {
    "colab": {
      "name": "Supervised-Learning - REGRESSION.ipynb",
      "version": "0.3.2",
      "provenance": [],
      "collapsed_sections": [],
      "include_colab_link": true
    },
    "kernelspec": {
      "name": "python3",
      "display_name": "Python 3"
    }
  },
  "cells": [
    {
      "cell_type": "markdown",
      "metadata": {
        "id": "view-in-github",
        "colab_type": "text"
      },
      "source": [
        "<a href=\"https://colab.research.google.com/github/aantonelloborges/ml/blob/master/Supervised_Learning_REGRESSION.ipynb\" target=\"_parent\"><img src=\"https://colab.research.google.com/assets/colab-badge.svg\" alt=\"Open In Colab\"/></a>"
      ]
    },
    {
      "cell_type": "markdown",
      "metadata": {
        "id": "L8YqZEzw0m2A",
        "colab_type": "text"
      },
      "source": [
        "# Welcome to Machine Learning - https://bit.ly/2JVEj2W\n",
        "\n",
        "We will be doing a simple exercise using a well known data collection - Boston area home prices. The problem is to predict home prices based on this data using REGRESSION. \n",
        "\n",
        "\n",
        "*Disclaimer: this data is old so some of the information will not properly predict current trends! So current, reliable and relevant data is needed for good ML modeling!\n",
        "\n",
        "### We will be using these packages to help us\n",
        "- numpy: Used for NumPy is the fundamental package for scientific computing with Python.\n",
        "\n",
        "- pandas: pandas is used for data analysis tools for the Python programming\n",
        "\n",
        "- scipy: SciPy (pronounced “Sigh Pie”) is a Python-based ecosystem of open-source software for mathematics, science, and engineering\n",
        "\n",
        "- matplotlib: Matplotlib is a plotting library for the Python programming language\n",
        "\n",
        "- sklearn: Scikit-learn (formerly scikits.learn) is a free software machine learning library for the Python programming language\n",
        "\n",
        "- statsmodels: statsmodels is a Python module that provides classes and functions for the estimation of many different statistical models\n",
        "\n",
        "- seaborn: Seaborn is a Python visualization library based on matplotlib. It provides a high-level interface for drawing attractive statistical graphics."
      ]
    },
    {
      "cell_type": "markdown",
      "metadata": {
        "id": "LIONUJ1QfmGr",
        "colab_type": "text"
      },
      "source": [
        "## Loading Packages\n",
        "Please execute the next cell to load our required packages - note how package names are refernced in short form by the use of _\"as\"_"
      ]
    },
    {
      "cell_type": "code",
      "metadata": {
        "id": "_mcHU4Mq0iL2",
        "colab_type": "code",
        "colab": {}
      },
      "source": [
        "get_ipython().run_line_magic('matplotlib', 'inline')\n",
        "\n",
        "import numpy as np\n",
        "import pandas as pd\n",
        "import scipy.stats as stats\n",
        "import matplotlib.pyplot as plt\n",
        "import sklearn\n",
        "import statsmodels.api as sm\n",
        "\n",
        "import seaborn as sns\n",
        "sns.set_style(\"whitegrid\")\n",
        "sns.set_context(\"poster\")\n",
        "\n",
        "# special matplotlib argument for improved plots\n",
        "from matplotlib import rcParams"
      ],
      "execution_count": 0,
      "outputs": []
    },
    {
      "cell_type": "markdown",
      "metadata": {
        "id": "FpVdtU132PDs",
        "colab_type": "text"
      },
      "source": [
        "### Load Boston dataset"
      ]
    },
    {
      "cell_type": "code",
      "metadata": {
        "id": "Pe_n4hUC0nmT",
        "colab_type": "code",
        "colab": {}
      },
      "source": [
        "# sklearn provides datasets as part of the package! You don't have to download datasets from other websites. \n",
        "from sklearn.datasets import load_boston\n",
        "boston = load_boston() # load_boston in sklearn already has information about the housing data! "
      ],
      "execution_count": 0,
      "outputs": []
    },
    {
      "cell_type": "code",
      "metadata": {
        "id": "aVcZ_wpl2SqU",
        "colab_type": "code",
        "colab": {}
      },
      "source": [
        "print(boston.DESCR) # describe the dataset"
      ],
      "execution_count": 0,
      "outputs": []
    },
    {
      "cell_type": "code",
      "metadata": {
        "id": "fAxhRsMA2VGN",
        "colab_type": "code",
        "colab": {}
      },
      "source": [
        "# Let's get some more information about our dataset\n",
        "print(boston.keys())\n",
        "print(type(boston.data))\n",
        "print(boston.data.shape)"
      ],
      "execution_count": 0,
      "outputs": []
    },
    {
      "cell_type": "code",
      "metadata": {
        "id": "3N0RSS3d2Zia",
        "colab_type": "code",
        "colab": {}
      },
      "source": [
        "print(boston.feature_names)"
      ],
      "execution_count": 0,
      "outputs": []
    },
    {
      "cell_type": "code",
      "metadata": {
        "id": "F1pRpwHHOh5M",
        "colab_type": "code",
        "colab": {}
      },
      "source": [
        "bos = pd.DataFrame(boston.data) # pandas is used here to format the data into a DataFrame called \"bos\"- rows and columns \n",
        "print(bos.head()) # top 5 rows of dataset bos"
      ],
      "execution_count": 0,
      "outputs": []
    },
    {
      "cell_type": "code",
      "metadata": {
        "id": "kLF08p1MOkQU",
        "colab_type": "code",
        "colab": {}
      },
      "source": [
        "bos.columns = boston.feature_names # we are adding the feature names to the columns\n",
        "print(bos.head())"
      ],
      "execution_count": 0,
      "outputs": []
    },
    {
      "cell_type": "code",
      "metadata": {
        "id": "-4H30EyWOmbH",
        "colab_type": "code",
        "colab": {}
      },
      "source": [
        "print(boston.target.shape) # target is where we will place the price - it is a single column vector"
      ],
      "execution_count": 0,
      "outputs": []
    },
    {
      "cell_type": "code",
      "metadata": {
        "id": "hNHae3FnOo4e",
        "colab_type": "code",
        "colab": {}
      },
      "source": [
        "bos['PRICE'] = boston.target # the dependant variable > Price is dependent on the features. \n",
        "print(bos.head())"
      ],
      "execution_count": 0,
      "outputs": []
    },
    {
      "cell_type": "code",
      "metadata": {
        "id": "-g56Q7jsOsif",
        "colab_type": "code",
        "colab": {}
      },
      "source": [
        "bos.describe() # get all stats for each column of data quickly !\n",
        "\n",
        "# this is useful to understand various statistical measures about our data - please review the output below!\n"
      ],
      "execution_count": 0,
      "outputs": []
    },
    {
      "cell_type": "code",
      "metadata": {
        "id": "C8Ijcph5Ou-A",
        "colab_type": "code",
        "colab": {}
      },
      "source": [
        "X = bos.drop('PRICE', axis = 1) # these are our variables\n",
        "Y = bos['PRICE'] # this is the result"
      ],
      "execution_count": 0,
      "outputs": []
    },
    {
      "cell_type": "code",
      "metadata": {
        "id": "gCsld1bOOyMQ",
        "colab_type": "code",
        "colab": {}
      },
      "source": [
        "import sklearn.model_selection\n",
        "\n",
        "\n"
      ],
      "execution_count": 0,
      "outputs": []
    },
    {
      "cell_type": "markdown",
      "metadata": {
        "id": "yL9_t77uO9Bu",
        "colab_type": "text"
      },
      "source": [
        "### Split the data into training and test set using the train_test_split function\n",
        "\n",
        "Why do we split the data ? \n",
        "\n",
        "The data is split into training (this has the known output based on the data)  and test datasets. As this i duperised learning the \"training data\" helps the model learn. To validate this learning we use the \"test data\" which also was part of the original\n",
        "data so it has the output - making it possible for us to verify the model! \n",
        "\n",
        "The command in the cell below uses a sklearn function \"train_test_split\" using the input data (X,Y) and creates a 2/3 (training) - 1/3 (test)  split of data using the test_size parameter (=0.33). \n",
        "\n",
        "Please note there are several ways to split data and that depends on the particular problem to be solved.\n"
      ]
    },
    {
      "cell_type": "code",
      "metadata": {
        "id": "0370Gx3rO1wV",
        "colab_type": "code",
        "colab": {}
      },
      "source": [
        "X_train, X_test, Y_train, Y_test = sklearn.model_selection.train_test_split(X, Y, test_size = 0.33, random_state = 5)\n",
        "print(X_train.shape)\n",
        "print(X_test.shape)\n",
        "print(Y_train.shape)\n",
        "print(Y_test.shape)\n",
        "\n"
      ],
      "execution_count": 0,
      "outputs": []
    },
    {
      "cell_type": "markdown",
      "metadata": {
        "id": "R2QEGKnzPB4L",
        "colab_type": "text"
      },
      "source": [
        "### Linear Regression\n",
        "Build the model and predict the target value using the Linear Regression model\n",
        "\n",
        "Linear Regression is a supervised machine learning algorithm where the predicted output is continuous and has a constant slope. It’s used to predict values within a continuous range, (e.g. sales, price) rather than trying to classify them into categories (e.g. cat, dog)."
      ]
    },
    {
      "cell_type": "code",
      "metadata": {
        "id": "2WcvA9qHO3_9",
        "colab_type": "code",
        "colab": {}
      },
      "source": [
        "from sklearn.linear_model import LinearRegression\n",
        "\n",
        "lm = LinearRegression()\n",
        "lm.fit(X_train, Y_train)\n",
        "\n",
        "Y_pred = lm.predict(X_test)"
      ],
      "execution_count": 0,
      "outputs": []
    },
    {
      "cell_type": "markdown",
      "metadata": {
        "id": "qrNWZV4gPoOp",
        "colab_type": "text"
      },
      "source": [
        "Let's plot the predicted prices vs actual prices along with the ideal prediction"
      ]
    },
    {
      "cell_type": "code",
      "metadata": {
        "id": "9KcAUG_OPH1s",
        "colab_type": "code",
        "colab": {}
      },
      "source": [
        "plt.scatter(Y_test, Y_pred)\n",
        "plt.xlabel(\"Prices: $Y_i$\")\n",
        "plt.ylabel(\"Predicted prices: $\\hat{Y}_i$\")\n",
        "plt.title(\"Prices vs Predicted prices: $Y_i$ vs $\\hat{Y}_i$\")\n",
        "plt.plot([Y_test.min(), Y_test.max()], [Y_test.min(), Y_test.max()], 'k--', lw=1)"
      ],
      "execution_count": 0,
      "outputs": []
    },
    {
      "cell_type": "markdown",
      "metadata": {
        "id": "mMC-zKKvPtnm",
        "colab_type": "text"
      },
      "source": [
        "### Mean Squared Error - from the linear regression model\n",
        "\n",
        "We use loss functions to improve our model. This implies that our effort is minimize the \"loss\" or \"error\" between predicted and actual results. \n",
        "\n",
        "Mean Squared Error (MSE) is the most common regression loss function. MSE is the sum of squared distances between the target variable and predicted values.\n"
      ]
    },
    {
      "cell_type": "code",
      "metadata": {
        "id": "W__pWBJ1Pnf9",
        "colab_type": "code",
        "colab": {}
      },
      "source": [
        "# calculate the MSE between the target values\n",
        "mse = sklearn.metrics.mean_squared_error(Y_test, Y_pred)\n",
        "print(mse)"
      ],
      "execution_count": 0,
      "outputs": []
    },
    {
      "cell_type": "markdown",
      "metadata": {
        "id": "q6ZqGj_UPzz7",
        "colab_type": "text"
      },
      "source": [
        "### Let's see how another model performs - this is the RandomForestRegressor model \n",
        "\n",
        "This model uses decision trees in a regressor model.\n",
        "\n",
        "Article https://www.analyticsvidhya.com/blog/2016/04/complete-tutorial-tree-based-modeling-scratch-in-python/"
      ]
    },
    {
      "cell_type": "code",
      "metadata": {
        "id": "RSjyQ6qEPxc2",
        "colab_type": "code",
        "colab": {}
      },
      "source": [
        "from sklearn.ensemble import RandomForestRegressor\n",
        "regr = RandomForestRegressor(max_depth=2, random_state=0)\n",
        "regr.fit(X_train, Y_train)\n",
        "\n",
        "Y_pred = regr.predict(X_test)\n",
        "\n",
        "plt.scatter(Y_test, Y_pred)\n",
        "plt.xlabel(\"Prices: $Y_i$\")\n",
        "plt.ylabel(\"Predicted prices: $\\hat{Y}_i$\")\n",
        "plt.title(\"Prices vs Predicted prices: $Y_i$ vs $\\hat{Y}_i$\")\n",
        "plt.plot([Y_test.min(), Y_test.max()], [Y_test.min(), Y_test.max()], 'k--', lw=1)"
      ],
      "execution_count": 0,
      "outputs": []
    },
    {
      "cell_type": "markdown",
      "metadata": {
        "id": "v8LqR8YBP5ko",
        "colab_type": "text"
      },
      "source": [
        "### Mean Squared Error - from the Random Forest regression model"
      ]
    },
    {
      "cell_type": "code",
      "metadata": {
        "id": "RzIAf0S1P5Fo",
        "colab_type": "code",
        "colab": {}
      },
      "source": [
        "mse = sklearn.metrics.mean_squared_error(Y_test, Y_pred)\n",
        "print(mse)"
      ],
      "execution_count": 0,
      "outputs": []
    },
    {
      "cell_type": "code",
      "metadata": {
        "id": "bogJVNIzP4Kq",
        "colab_type": "code",
        "colab": {}
      },
      "source": [
        "prices=boston.target"
      ],
      "execution_count": 0,
      "outputs": []
    },
    {
      "cell_type": "code",
      "metadata": {
        "id": "e52ST0xqP_Ed",
        "colab_type": "code",
        "colab": {}
      },
      "source": [
        "print(boston.feature_names)"
      ],
      "execution_count": 0,
      "outputs": []
    },
    {
      "cell_type": "markdown",
      "metadata": {
        "id": "p5gzUk5RQEoS",
        "colab_type": "text"
      },
      "source": [
        "## Predicting \n",
        "\n",
        "### Did you compare the MSEs between the 2 models ? One using liner regression and the other using random forest ??\n",
        "\n",
        "\n",
        "Now that we have a model **regr** let's see how it does on predictions...\n",
        "\n",
        "Everything being the same - how do you think the price will be affected by\n",
        "        * the number of rooms (RM)\n",
        "        * the Pupil Teacher Ration (PTRATIO) and\n",
        "        * the level of poverty of people in the neighborhood (LSTAT) ?\n",
        "       \n"
      ]
    },
    {
      "cell_type": "markdown",
      "metadata": {
        "id": "zWZcZ8w5iB5v",
        "colab_type": "text"
      },
      "source": [
        "Here we have 3 homes with these characteristics :\n",
        "\n",
        "    \n",
        "| Client | Rooms (RM) | PTRATIO | LSTAT \n",
        "| ------|-----|---------|----------\n",
        "|   1   |    5       |   15    |   20 \n",
        "|   2   |      4      |   30    |   10  |\n",
        " |   3   |    8       |   12    |   3   |\n",
        "   \n",
        "   \n",
        "   -----------------------------------------\n",
        "  \n",
        "  \n",
        "   Let's see how our model predicts prices for these homes. You may want to guess if the prices would be higher/lower than the median values..     \n",
        "   "
      ]
    },
    {
      "cell_type": "code",
      "metadata": {
        "id": "alJnqr7SQA5L",
        "colab_type": "code",
        "colab": {}
      },
      "source": [
        "# This is a simple test dataset that is in the same format as our original dataset\n",
        "\n",
        "clients = [[0.06905, 0.00, 2.18, 0, 0.469, 5.0,61.1,4.0900, 1.0, 296.0, 15.00, 332.09, 20],\n",
        "               [0.06905, 0.00, 2.18, 0, 0.469, 4.0,61.1,4.0900, 1.0, 296.0, 30.00, 332.09, 10],\n",
        "               [0.06905, 0.00, 2.18, 0, 0.469, 8.0,61.1,4.0900, 1.0, 296.0, 12.00, 332.09, 3]]\n"
      ],
      "execution_count": 0,
      "outputs": []
    },
    {
      "cell_type": "code",
      "metadata": {
        "id": "CA4qRpu6Qhch",
        "colab_type": "code",
        "colab": {}
      },
      "source": [
        "# Let's use the \"regr\" model and predict prices for each of the clients\n",
        "\n",
        "for i, price in enumerate(regr.predict(clients)):\n",
        "    print (\"Predicted price for client {}'s home ${:,.2f} \".format(i+1,price))\n"
      ],
      "execution_count": 0,
      "outputs": []
    },
    {
      "cell_type": "code",
      "metadata": {
        "id": "5QHm5curQl5P",
        "colab_type": "code",
        "colab": {}
      },
      "source": [
        "plt.hist(prices,bins=20)\n",
        "for price in regr.predict(clients):\n",
        "    plt.axvline(price, lw=5, c='r')"
      ],
      "execution_count": 0,
      "outputs": []
    },
    {
      "cell_type": "code",
      "metadata": {
        "id": "fgPOM5mXQnu5",
        "colab_type": "code",
        "colab": {}
      },
      "source": [
        "print (\"Min Price \",prices.min())\n",
        "print (\"Max Price \", prices.max())\n",
        "print (\"Mean Price \", prices.mean())\n",
        "print (\"Median Price \", np.median(prices))\n",
        "print (\" Prices - Standard Deviation \", np.std(prices))"
      ],
      "execution_count": 0,
      "outputs": []
    },
    {
      "cell_type": "code",
      "metadata": {
        "id": "THPzMocSQp0u",
        "colab_type": "code",
        "colab": {}
      },
      "source": [
        ""
      ],
      "execution_count": 0,
      "outputs": []
    },
    {
      "cell_type": "markdown",
      "metadata": {
        "id": "fQFSdRiOQryX",
        "colab_type": "text"
      },
      "source": [
        "### Visualizing the data we see that \n",
        "\n",
        "* Client 1 is below the median (5 rooms, 15 to 1 PT ratio and 20% lower income)\n",
        "* Client 2 is closer to the median (4 rooms, 30 to 1 PT ratio and 10% lower income) and\n",
        "* Client 3 is closer to the max (8 rooms, 12 to 1 PT ratio and 3% lower income) \n",
        "    \n",
        "Was your intuition similar ? :)\n",
        "\n",
        "\n"
      ]
    },
    {
      "cell_type": "markdown",
      "metadata": {
        "id": "4nGMnocoiXyl",
        "colab_type": "text"
      },
      "source": [
        "## In Conclusion\n",
        "\n",
        "We used Regression to fit data during the training of the model, we tested the model using test data and we tried using the model to predict some fictional homes. \n",
        "\n",
        "We used several packages in this process. \n",
        "\n",
        "This is a taste of what ML can do .. there are many resources on the Net so please have fun exploring them!\n",
        "Thank you!"
      ]
    },
    {
      "cell_type": "code",
      "metadata": {
        "id": "19ZYVwnQQxV3",
        "colab_type": "code",
        "colab": {}
      },
      "source": [
        ""
      ],
      "execution_count": 0,
      "outputs": []
    }
  ]
}